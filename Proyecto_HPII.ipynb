{
  "nbformat": 4,
  "nbformat_minor": 0,
  "metadata": {
    "colab": {
      "provenance": [],
      "authorship_tag": "ABX9TyP4vRoQ8Irb+El8g8i3JSH5",
      "include_colab_link": true
    },
    "kernelspec": {
      "name": "python3",
      "display_name": "Python 3"
    },
    "language_info": {
      "name": "python"
    }
  },
  "cells": [
    {
      "cell_type": "markdown",
      "metadata": {
        "id": "view-in-github",
        "colab_type": "text"
      },
      "source": [
        "<a href=\"https://colab.research.google.com/github/valebusstos/La-sufrimos/blob/main/Proyecto_HPII.ipynb\" target=\"_parent\"><img src=\"https://colab.research.google.com/assets/colab-badge.svg\" alt=\"Open In Colab\"/></a>"
      ]
    },
    {
      "cell_type": "code",
      "execution_count": null,
      "metadata": {
        "id": "J8bBETYKl4gV"
      },
      "outputs": [],
      "source": [
        "import requests\n",
        "import pandas as pd\n",
        "import matplotlib.pyplot as plt"
      ]
    },
    {
      "cell_type": "code",
      "source": [
        "url = 'https://raw.githubusercontent.com/Wiky-25/Laelegida/refs/heads/main/Datos_dict.json' #link datos relevantes Banco de la República\n",
        "headers = {'Accept':'application/vnd.github.v3+json'}\n",
        "r = requests.get(url, headers = headers)\n",
        "print(r.status_code) # Imprime el status"
      ],
      "metadata": {
        "colab": {
          "base_uri": "https://localhost:8080/"
        },
        "id": "I0tkPW_5mY-5",
        "outputId": "e635a783-37f3-4eb8-c3eb-70e52e408a1f"
      },
      "execution_count": null,
      "outputs": [
        {
          "output_type": "stream",
          "name": "stdout",
          "text": [
            "200\n"
          ]
        }
      ]
    },
    {
      "cell_type": "code",
      "source": [
        "if r.status_code == 200:\n",
        "  print('Acceso exitoso\\n')              # Verificación correcta a los datos\n",
        "  response_dict = r.json()\n",
        "else:\n",
        "  print(f'No se pudo acceder a los datos, código de error: {r.status_code}')"
      ],
      "metadata": {
        "colab": {
          "base_uri": "https://localhost:8080/"
        },
        "id": "a-yq79zymn_B",
        "outputId": "40170acc-0ce6-4732-cced-baf9f629c8f9"
      },
      "execution_count": null,
      "outputs": [
        {
          "output_type": "stream",
          "name": "stdout",
          "text": [
            "Acceso exitoso\n",
            "\n"
          ]
        }
      ]
    },
    {
      "cell_type": "code",
      "source": [
        "response_dict"
      ],
      "metadata": {
        "colab": {
          "base_uri": "https://localhost:8080/"
        },
        "id": "6R4bfq2rmrFj",
        "outputId": "e65f7205-18b3-4c8a-a5c3-345a8bd03dd3"
      },
      "execution_count": null,
      "outputs": [
        {
          "output_type": "execute_result",
          "data": {
            "text/plain": [
              "{'31/12/2004': {'Fecha': '31/12/2004',\n",
              "  'Tasa Representativa del Mercado (TRM)(Dato fin de año)': '2.389,75',\n",
              "  'Tasa de política monetaria(Dato fin de año)': '6,50',\n",
              "  'Inflación total, anual(Dato fin de año)': '5,50',\n",
              "  'Inflación sin alimentos ni regulados, anual(Dato fin de año)': '4,60',\n",
              "  'Salario mínimo mensual, variación anual(Dato fin de año)': '7,80'},\n",
              " '31/12/2005': {'Fecha': '31/12/2005',\n",
              "  'Tasa Representativa del Mercado (TRM)(Dato fin de año)': '2.284,22',\n",
              "  'Tasa de política monetaria(Dato fin de año)': '6,00',\n",
              "  'Inflación total, anual(Dato fin de año)': '4,85',\n",
              "  'Inflación sin alimentos ni regulados, anual(Dato fin de año)': '3,71',\n",
              "  'Salario mínimo mensual, variación anual(Dato fin de año)': '6,60'},\n",
              " '31/12/2006': {'Fecha': '31/12/2006',\n",
              "  'Tasa Representativa del Mercado (TRM)(Dato fin de año)': '2.238,79',\n",
              "  'Tasa de política monetaria(Dato fin de año)': '7,50',\n",
              "  'Inflación total, anual(Dato fin de año)': '4,48',\n",
              "  'Inflación sin alimentos ni regulados, anual(Dato fin de año)': '3,75',\n",
              "  'Salario mínimo mensual, variación anual(Dato fin de año)': '6,90'},\n",
              " '31/12/2007': {'Fecha': '31/12/2007',\n",
              "  'Tasa Representativa del Mercado (TRM)(Dato fin de año)': '2.014,76',\n",
              "  'Tasa de política monetaria(Dato fin de año)': '9,50',\n",
              "  'Inflación total, anual(Dato fin de año)': '5,69',\n",
              "  'Inflación sin alimentos ni regulados, anual(Dato fin de año)': '4,20',\n",
              "  'Salario mínimo mensual, variación anual(Dato fin de año)': '6,30'},\n",
              " '31/12/2008': {'Fecha': '31/12/2008',\n",
              "  'Tasa Representativa del Mercado (TRM)(Dato fin de año)': '2.243,59',\n",
              "  'Tasa de política monetaria(Dato fin de año)': '9,50',\n",
              "  'Inflación total, anual(Dato fin de año)': '7,67',\n",
              "  'Inflación sin alimentos ni regulados, anual(Dato fin de año)': '4,38',\n",
              "  'Salario mínimo mensual, variación anual(Dato fin de año)': '6,40'},\n",
              " '31/12/2009': {'Fecha': '31/12/2009',\n",
              "  'Tasa Representativa del Mercado (TRM)(Dato fin de año)': '2.044,23',\n",
              "  'Tasa de política monetaria(Dato fin de año)': '3,50',\n",
              "  'Inflación total, anual(Dato fin de año)': '2,00',\n",
              "  'Inflación sin alimentos ni regulados, anual(Dato fin de año)': '3,06',\n",
              "  'Salario mínimo mensual, variación anual(Dato fin de año)': '7,70'},\n",
              " '31/12/2010': {'Fecha': '31/12/2010',\n",
              "  'Tasa Representativa del Mercado (TRM)(Dato fin de año)': '1.913,98',\n",
              "  'Tasa de política monetaria(Dato fin de año)': '3,00',\n",
              "  'Inflación total, anual(Dato fin de año)': '3,17',\n",
              "  'Inflación sin alimentos ni regulados, anual(Dato fin de año)': '2,06',\n",
              "  'Salario mínimo mensual, variación anual(Dato fin de año)': '3,60'},\n",
              " '31/12/2011': {'Fecha': '31/12/2011',\n",
              "  'Tasa Representativa del Mercado (TRM)(Dato fin de año)': '1.942,70',\n",
              "  'Tasa de política monetaria(Dato fin de año)': '4,75',\n",
              "  'Inflación total, anual(Dato fin de año)': '3,73',\n",
              "  'Inflación sin alimentos ni regulados, anual(Dato fin de año)': '2,70',\n",
              "  'Salario mínimo mensual, variación anual(Dato fin de año)': '4,00'},\n",
              " '31/12/2012': {'Fecha': '31/12/2012',\n",
              "  'Tasa Representativa del Mercado (TRM)(Dato fin de año)': '1.768,23',\n",
              "  'Tasa de política monetaria(Dato fin de año)': '4,25',\n",
              "  'Inflación total, anual(Dato fin de año)': '2,44',\n",
              "  'Inflación sin alimentos ni regulados, anual(Dato fin de año)': '2,77',\n",
              "  'Salario mínimo mensual, variación anual(Dato fin de año)': '5,80'},\n",
              " '31/12/2013': {'Fecha': '31/12/2013',\n",
              "  'Tasa Representativa del Mercado (TRM)(Dato fin de año)': '1.926,83',\n",
              "  'Tasa de política monetaria(Dato fin de año)': '3,25',\n",
              "  'Inflación total, anual(Dato fin de año)': '1,94',\n",
              "  'Inflación sin alimentos ni regulados, anual(Dato fin de año)': '2,73',\n",
              "  'Salario mínimo mensual, variación anual(Dato fin de año)': '4,00'},\n",
              " '31/12/2014': {'Fecha': '31/12/2014',\n",
              "  'Tasa Representativa del Mercado (TRM)(Dato fin de año)': '2.392,46',\n",
              "  'Tasa de política monetaria(Dato fin de año)': '4,50',\n",
              "  'Inflación total, anual(Dato fin de año)': '3,66',\n",
              "  'Inflación sin alimentos ni regulados, anual(Dato fin de año)': '2,82',\n",
              "  'Salario mínimo mensual, variación anual(Dato fin de año)': '4,50'},\n",
              " '31/12/2015': {'Fecha': '31/12/2015',\n",
              "  'Tasa Representativa del Mercado (TRM)(Dato fin de año)': '3.149,47',\n",
              "  'Tasa de política monetaria(Dato fin de año)': '5,75',\n",
              "  'Inflación total, anual(Dato fin de año)': '6,77',\n",
              "  'Inflación sin alimentos ni regulados, anual(Dato fin de año)': '5,50',\n",
              "  'Salario mínimo mensual, variación anual(Dato fin de año)': '4,60'},\n",
              " '31/12/2016': {'Fecha': '31/12/2016',\n",
              "  'Tasa Representativa del Mercado (TRM)(Dato fin de año)': '3.000,71',\n",
              "  'Tasa de política monetaria(Dato fin de año)': '7,50',\n",
              "  'Inflación total, anual(Dato fin de año)': '5,75',\n",
              "  'Inflación sin alimentos ni regulados, anual(Dato fin de año)': '5,48',\n",
              "  'Salario mínimo mensual, variación anual(Dato fin de año)': '7,00'},\n",
              " '31/12/2017': {'Fecha': '31/12/2017',\n",
              "  'Tasa Representativa del Mercado (TRM)(Dato fin de año)': '2.984,00',\n",
              "  'Tasa de política monetaria(Dato fin de año)': '4,75',\n",
              "  'Inflación total, anual(Dato fin de año)': '4,09',\n",
              "  'Inflación sin alimentos ni regulados, anual(Dato fin de año)': '4,67',\n",
              "  'Salario mínimo mensual, variación anual(Dato fin de año)': '7,00'},\n",
              " '31/12/2018': {'Fecha': '31/12/2018',\n",
              "  'Tasa Representativa del Mercado (TRM)(Dato fin de año)': '3.249,75',\n",
              "  'Tasa de política monetaria(Dato fin de año)': '4,25',\n",
              "  'Inflación total, anual(Dato fin de año)': '3,18',\n",
              "  'Inflación sin alimentos ni regulados, anual(Dato fin de año)': '2,57',\n",
              "  'Salario mínimo mensual, variación anual(Dato fin de año)': '5,90'},\n",
              " '31/12/2019': {'Fecha': '31/12/2019',\n",
              "  'Tasa Representativa del Mercado (TRM)(Dato fin de año)': '3.277,14',\n",
              "  'Tasa de política monetaria(Dato fin de año)': '4,25',\n",
              "  'Inflación total, anual(Dato fin de año)': '3,80',\n",
              "  'Inflación sin alimentos ni regulados, anual(Dato fin de año)': '3,10',\n",
              "  'Salario mínimo mensual, variación anual(Dato fin de año)': '6,00'},\n",
              " '31/12/2020': {'Fecha': '31/12/2020',\n",
              "  'Tasa Representativa del Mercado (TRM)(Dato fin de año)': '3.432,50',\n",
              "  'Tasa de política monetaria(Dato fin de año)': '1,75',\n",
              "  'Inflación total, anual(Dato fin de año)': '1,61',\n",
              "  'Inflación sin alimentos ni regulados, anual(Dato fin de año)': '1,11',\n",
              "  'Salario mínimo mensual, variación anual(Dato fin de año)': '6,00'},\n",
              " '31/12/2021': {'Fecha': '31/12/2021',\n",
              "  'Tasa Representativa del Mercado (TRM)(Dato fin de año)': '3.981,16',\n",
              "  'Tasa de política monetaria(Dato fin de año)': '3,00',\n",
              "  'Inflación total, anual(Dato fin de año)': '5,62',\n",
              "  'Inflación sin alimentos ni regulados, anual(Dato fin de año)': '2,49',\n",
              "  'Salario mínimo mensual, variación anual(Dato fin de año)': '3,50'},\n",
              " '31/12/2022': {'Fecha': '31/12/2022',\n",
              "  'Tasa Representativa del Mercado (TRM)(Dato fin de año)': '4.810,20',\n",
              "  'Tasa de política monetaria(Dato fin de año)': '12,00',\n",
              "  'Inflación total, anual(Dato fin de año)': '13,12',\n",
              "  'Inflación sin alimentos ni regulados, anual(Dato fin de año)': '9,51',\n",
              "  'Salario mínimo mensual, variación anual(Dato fin de año)': '10,10'},\n",
              " '31/12/2023': {'Fecha': '31/12/2023',\n",
              "  'Tasa Representativa del Mercado (TRM)(Dato fin de año)': '3.822,05',\n",
              "  'Tasa de política monetaria(Dato fin de año)': '13,00',\n",
              "  'Inflación total, anual(Dato fin de año)': '9,28',\n",
              "  'Inflación sin alimentos ni regulados, anual(Dato fin de año)': '8,42',\n",
              "  'Salario mínimo mensual, variación anual(Dato fin de año)': '16,00'}}"
            ]
          },
          "metadata": {},
          "execution_count": 53
        }
      ]
    },
    {
      "cell_type": "code",
      "source": [
        "print(f'Las claves del diccionario response_dict son:')     # Claves = años\n",
        "for key in response_dict.keys():\n",
        "  print(key)"
      ],
      "metadata": {
        "colab": {
          "base_uri": "https://localhost:8080/"
        },
        "id": "wC1lKIXBmup2",
        "outputId": "20839257-085b-4773-cf87-18f7d0e5cc4a"
      },
      "execution_count": null,
      "outputs": [
        {
          "output_type": "stream",
          "name": "stdout",
          "text": [
            "Las claves del diccionario response_dict son:\n",
            "31/12/2004\n",
            "31/12/2005\n",
            "31/12/2006\n",
            "31/12/2007\n",
            "31/12/2008\n",
            "31/12/2009\n",
            "31/12/2010\n",
            "31/12/2011\n",
            "31/12/2012\n",
            "31/12/2013\n",
            "31/12/2014\n",
            "31/12/2015\n",
            "31/12/2016\n",
            "31/12/2017\n",
            "31/12/2018\n",
            "31/12/2019\n",
            "31/12/2020\n",
            "31/12/2021\n",
            "31/12/2022\n",
            "31/12/2023\n"
          ]
        }
      ]
    },
    {
      "cell_type": "code",
      "source": [
        "repo_dicts = response_dict['31/12/2004']\n",
        "print(f'Número de indicadores por año: {len(repo_dicts)}')\n",
        "type(repo_dicts)\n",
        "for key in sorted(repo_dicts):       # Indicador por un año\n",
        "  print(key)"
      ],
      "metadata": {
        "colab": {
          "base_uri": "https://localhost:8080/"
        },
        "id": "UuPqSy1bmyGL",
        "outputId": "5f61b69b-3680-46d6-dfc8-62deab987e52"
      },
      "execution_count": null,
      "outputs": [
        {
          "output_type": "stream",
          "name": "stdout",
          "text": [
            "Número de indicadores por año: 6\n",
            "Fecha\n",
            "Inflación sin alimentos ni regulados, anual(Dato fin de año)\n",
            "Inflación total, anual(Dato fin de año)\n",
            "Salario mínimo mensual, variación anual(Dato fin de año)\n",
            "Tasa Representativa del Mercado (TRM)(Dato fin de año)\n",
            "Tasa de política monetaria(Dato fin de año)\n"
          ]
        }
      ]
    },
    {
      "cell_type": "code",
      "source": [
        "i = 1\n",
        "for repo in response_dict.values():\n",
        "  print(f'Fecha: {repo['Fecha']}')\n",
        "  print(f'Inflación SAR %: {repo['Inflación sin alimentos ni regulados, anual(Dato fin de año)']}')\n",
        "  print(f'Inflación total %: {repo['Inflación total, anual(Dato fin de año)']}')\n",
        "  print(f'Variación salario mínimo %: {repo['Salario mínimo mensual, variación anual(Dato fin de año)']}')\n",
        "  print(f'TRM: {repo['Tasa Representativa del Mercado (TRM)(Dato fin de año)']}')\n",
        "  print(f'Tasa de política monetaria: {repo['Tasa de política monetaria(Dato fin de año)']}\\n')\n",
        "i += 1                                                               # Indicadores y valores para cada año"
      ],
      "metadata": {
        "colab": {
          "base_uri": "https://localhost:8080/"
        },
        "id": "ksf2JAeWm7mW",
        "outputId": "6329584c-bb94-47cf-8f8b-6b877cccfd88"
      },
      "execution_count": null,
      "outputs": [
        {
          "output_type": "stream",
          "name": "stdout",
          "text": [
            "Fecha: 31/12/2004\n",
            "Inflación SAR %: 4,60\n",
            "Inflación total %: 5,50\n",
            "Variación salario mínimo %: 7,80\n",
            "TRM: 2.389,75\n",
            "Tasa de política monetaria: 6,50\n",
            "\n",
            "Fecha: 31/12/2005\n",
            "Inflación SAR %: 3,71\n",
            "Inflación total %: 4,85\n",
            "Variación salario mínimo %: 6,60\n",
            "TRM: 2.284,22\n",
            "Tasa de política monetaria: 6,00\n",
            "\n",
            "Fecha: 31/12/2006\n",
            "Inflación SAR %: 3,75\n",
            "Inflación total %: 4,48\n",
            "Variación salario mínimo %: 6,90\n",
            "TRM: 2.238,79\n",
            "Tasa de política monetaria: 7,50\n",
            "\n",
            "Fecha: 31/12/2007\n",
            "Inflación SAR %: 4,20\n",
            "Inflación total %: 5,69\n",
            "Variación salario mínimo %: 6,30\n",
            "TRM: 2.014,76\n",
            "Tasa de política monetaria: 9,50\n",
            "\n",
            "Fecha: 31/12/2008\n",
            "Inflación SAR %: 4,38\n",
            "Inflación total %: 7,67\n",
            "Variación salario mínimo %: 6,40\n",
            "TRM: 2.243,59\n",
            "Tasa de política monetaria: 9,50\n",
            "\n",
            "Fecha: 31/12/2009\n",
            "Inflación SAR %: 3,06\n",
            "Inflación total %: 2,00\n",
            "Variación salario mínimo %: 7,70\n",
            "TRM: 2.044,23\n",
            "Tasa de política monetaria: 3,50\n",
            "\n",
            "Fecha: 31/12/2010\n",
            "Inflación SAR %: 2,06\n",
            "Inflación total %: 3,17\n",
            "Variación salario mínimo %: 3,60\n",
            "TRM: 1.913,98\n",
            "Tasa de política monetaria: 3,00\n",
            "\n",
            "Fecha: 31/12/2011\n",
            "Inflación SAR %: 2,70\n",
            "Inflación total %: 3,73\n",
            "Variación salario mínimo %: 4,00\n",
            "TRM: 1.942,70\n",
            "Tasa de política monetaria: 4,75\n",
            "\n",
            "Fecha: 31/12/2012\n",
            "Inflación SAR %: 2,77\n",
            "Inflación total %: 2,44\n",
            "Variación salario mínimo %: 5,80\n",
            "TRM: 1.768,23\n",
            "Tasa de política monetaria: 4,25\n",
            "\n",
            "Fecha: 31/12/2013\n",
            "Inflación SAR %: 2,73\n",
            "Inflación total %: 1,94\n",
            "Variación salario mínimo %: 4,00\n",
            "TRM: 1.926,83\n",
            "Tasa de política monetaria: 3,25\n",
            "\n",
            "Fecha: 31/12/2014\n",
            "Inflación SAR %: 2,82\n",
            "Inflación total %: 3,66\n",
            "Variación salario mínimo %: 4,50\n",
            "TRM: 2.392,46\n",
            "Tasa de política monetaria: 4,50\n",
            "\n",
            "Fecha: 31/12/2015\n",
            "Inflación SAR %: 5,50\n",
            "Inflación total %: 6,77\n",
            "Variación salario mínimo %: 4,60\n",
            "TRM: 3.149,47\n",
            "Tasa de política monetaria: 5,75\n",
            "\n",
            "Fecha: 31/12/2016\n",
            "Inflación SAR %: 5,48\n",
            "Inflación total %: 5,75\n",
            "Variación salario mínimo %: 7,00\n",
            "TRM: 3.000,71\n",
            "Tasa de política monetaria: 7,50\n",
            "\n",
            "Fecha: 31/12/2017\n",
            "Inflación SAR %: 4,67\n",
            "Inflación total %: 4,09\n",
            "Variación salario mínimo %: 7,00\n",
            "TRM: 2.984,00\n",
            "Tasa de política monetaria: 4,75\n",
            "\n",
            "Fecha: 31/12/2018\n",
            "Inflación SAR %: 2,57\n",
            "Inflación total %: 3,18\n",
            "Variación salario mínimo %: 5,90\n",
            "TRM: 3.249,75\n",
            "Tasa de política monetaria: 4,25\n",
            "\n",
            "Fecha: 31/12/2019\n",
            "Inflación SAR %: 3,10\n",
            "Inflación total %: 3,80\n",
            "Variación salario mínimo %: 6,00\n",
            "TRM: 3.277,14\n",
            "Tasa de política monetaria: 4,25\n",
            "\n",
            "Fecha: 31/12/2020\n",
            "Inflación SAR %: 1,11\n",
            "Inflación total %: 1,61\n",
            "Variación salario mínimo %: 6,00\n",
            "TRM: 3.432,50\n",
            "Tasa de política monetaria: 1,75\n",
            "\n",
            "Fecha: 31/12/2021\n",
            "Inflación SAR %: 2,49\n",
            "Inflación total %: 5,62\n",
            "Variación salario mínimo %: 3,50\n",
            "TRM: 3.981,16\n",
            "Tasa de política monetaria: 3,00\n",
            "\n",
            "Fecha: 31/12/2022\n",
            "Inflación SAR %: 9,51\n",
            "Inflación total %: 13,12\n",
            "Variación salario mínimo %: 10,10\n",
            "TRM: 4.810,20\n",
            "Tasa de política monetaria: 12,00\n",
            "\n",
            "Fecha: 31/12/2023\n",
            "Inflación SAR %: 8,42\n",
            "Inflación total %: 9,28\n",
            "Variación salario mínimo %: 16,00\n",
            "TRM: 3.822,05\n",
            "Tasa de política monetaria: 13,00\n",
            "\n"
          ]
        }
      ]
    },
    {
      "cell_type": "code",
      "source": [
        "class IndicadoresColombia:\n",
        "    \"\"\"Clase para graficar indicadores económicos de Colombia\"\"\"\n",
        "\n",
        "    def __init__(self, datos):\n",
        "        \"\"\"Método de inicialización\"\"\"\n",
        "        self.datos = datos\n",
        "        self.fechas = []\n",
        "        self.trm = []\n",
        "        self.tpm = []\n",
        "        self.inflacion_total = []\n",
        "        self.inflacion_sin_alimentos = []\n",
        "        self.salario_minimo = []\n",
        "        self.procesar_datos()\n",
        "\n",
        "    def str_to_float(self, valor):\n",
        "        \"\"\"Convierte strings a float manejando comas y puntos\"\"\"\n",
        "        return float(valor.replace('.', '').replace(',', '.'))\n",
        "\n",
        "    def procesar_datos(self):\n",
        "        \"\"\"Extrae, limpia y convierte los datos\"\"\"\n",
        "        for key in self.datos:\n",
        "            self.fechas.append(pd.to_datetime(key, dayfirst=True))\n",
        "            self.trm.append(self.str_to_float(self.datos[key].get('Tasa Representativa del Mercado (TRM)(Dato fin de año)')))\n",
        "            self.tpm.append(self.str_to_float(self.datos[key].get('Tasa de política monetaria(Dato fin de año)')))\n",
        "            self.inflacion_total.append(self.str_to_float(self.datos[key].get('Inflación total, anual(Dato fin de año)')))\n",
        "            self.inflacion_sin_alimentos.append(self.str_to_float(self.datos[key].get('Inflación sin alimentos ni regulados, anual(Dato fin de año)')))\n",
        "            self.salario_minimo.append(self.str_to_float(self.datos[key].get('Salario mínimo mensual, variación anual(Dato fin de año)', None)))\n",
        "\n",
        "    def graficar(self):\n",
        "        \"\"\"Gráfico interactivo\"\"\"\n",
        "        traces = [\n",
        "            go.Scatter(x=self.fechas, y=self.trm, mode='lines+markers', name='TRM', line=dict(color='royalblue', width=3), yaxis='y1'),\n",
        "            go.Scatter(x=self.fechas, y=self.tpm, mode='lines+markers', name='TPM', line=dict(color='green', width=3), yaxis='y2'),\n",
        "            go.Scatter(x=self.fechas, y=self.inflacion_total, mode='lines+markers', name='Inflación Total', line=dict(color='firebrick', width=3), yaxis='y2'),\n",
        "            go.Scatter(x=self.fechas, y=self.inflacion_sin_alimentos, mode='lines+markers', name='Inflación sin Alimentos', line=dict(color='orange', width=3), yaxis='y2'),\n",
        "            go.Scatter(x=self.fechas, y=self.salario_minimo, mode='lines+markers', name='Salario Mínimo', line=dict(color='purple', width=3), yaxis='y2')\n",
        "        ]   # Número de trazos en la gráfica\n",
        "\n",
        "        layout = go.Layout(\n",
        "            title='Indicadores económicos de Colombia (2004-2023)',\n",
        "            xaxis=dict(title='Fecha', tickformat='%Y'),\n",
        "            yaxis=dict(title='TRM (Pesos)', side='left', showgrid=True, gridcolor='lightgray'),\n",
        "            yaxis2=dict(title='Porcentajes (%)', side='right', overlaying='y', showgrid=False),\n",
        "            plot_bgcolor='whitesmoke',\n",
        "            hovermode='x unified',\n",
        "            legend=dict(title='Indicadores', bgcolor='rgba(255,255,255,0.8)', bordercolor='black', borderwidth=1)\n",
        "        )\n",
        "\n",
        "        fig = go.Figure(data=traces, layout=layout)\n",
        "        py.iplot(fig)\n"
      ],
      "metadata": {
        "id": "ZQVnECJS35MI"
      },
      "execution_count": null,
      "outputs": []
    },
    {
      "cell_type": "code",
      "source": [
        "mi_grafico = IndicadoresColombia(response_dict)\n",
        "mi_grafico.graficar()"
      ],
      "metadata": {
        "colab": {
          "base_uri": "https://localhost:8080/",
          "height": 542
        },
        "id": "W_iEcPEx36YO",
        "outputId": "4dbbd8dd-35cc-46bf-83b5-745b32cf5508"
      },
      "execution_count": null,
      "outputs": [
        {
          "output_type": "display_data",
          "data": {
            "text/html": [
              "<html>\n",
              "<head><meta charset=\"utf-8\" /></head>\n",
              "<body>\n",
              "    <div>            <script src=\"https://cdnjs.cloudflare.com/ajax/libs/mathjax/2.7.5/MathJax.js?config=TeX-AMS-MML_SVG\"></script><script type=\"text/javascript\">if (window.MathJax && window.MathJax.Hub && window.MathJax.Hub.Config) {window.MathJax.Hub.Config({SVG: {font: \"STIX-Web\"}});}</script>                <script type=\"text/javascript\">window.PlotlyConfig = {MathJaxConfig: 'local'};</script>\n",
              "        <script charset=\"utf-8\" src=\"https://cdn.plot.ly/plotly-2.35.2.min.js\"></script>                <div id=\"8f576082-2e22-4f53-8db8-dc0864231b9f\" class=\"plotly-graph-div\" style=\"height:525px; width:100%;\"></div>            <script type=\"text/javascript\">                                    window.PLOTLYENV=window.PLOTLYENV || {};                                    if (document.getElementById(\"8f576082-2e22-4f53-8db8-dc0864231b9f\")) {                    Plotly.newPlot(                        \"8f576082-2e22-4f53-8db8-dc0864231b9f\",                        [{\"line\":{\"color\":\"royalblue\",\"width\":3},\"mode\":\"lines+markers\",\"name\":\"TRM\",\"x\":[\"2004-12-31T00:00:00\",\"2005-12-31T00:00:00\",\"2006-12-31T00:00:00\",\"2007-12-31T00:00:00\",\"2008-12-31T00:00:00\",\"2009-12-31T00:00:00\",\"2010-12-31T00:00:00\",\"2011-12-31T00:00:00\",\"2012-12-31T00:00:00\",\"2013-12-31T00:00:00\",\"2014-12-31T00:00:00\",\"2015-12-31T00:00:00\",\"2016-12-31T00:00:00\",\"2017-12-31T00:00:00\",\"2018-12-31T00:00:00\",\"2019-12-31T00:00:00\",\"2020-12-31T00:00:00\",\"2021-12-31T00:00:00\",\"2022-12-31T00:00:00\",\"2023-12-31T00:00:00\"],\"y\":[2389.75,2284.22,2238.79,2014.76,2243.59,2044.23,1913.98,1942.7,1768.23,1926.83,2392.46,3149.47,3000.71,2984.0,3249.75,3277.14,3432.5,3981.16,4810.2,3822.05],\"yaxis\":\"y\",\"type\":\"scatter\"},{\"line\":{\"color\":\"green\",\"width\":3},\"mode\":\"lines+markers\",\"name\":\"TPM\",\"x\":[\"2004-12-31T00:00:00\",\"2005-12-31T00:00:00\",\"2006-12-31T00:00:00\",\"2007-12-31T00:00:00\",\"2008-12-31T00:00:00\",\"2009-12-31T00:00:00\",\"2010-12-31T00:00:00\",\"2011-12-31T00:00:00\",\"2012-12-31T00:00:00\",\"2013-12-31T00:00:00\",\"2014-12-31T00:00:00\",\"2015-12-31T00:00:00\",\"2016-12-31T00:00:00\",\"2017-12-31T00:00:00\",\"2018-12-31T00:00:00\",\"2019-12-31T00:00:00\",\"2020-12-31T00:00:00\",\"2021-12-31T00:00:00\",\"2022-12-31T00:00:00\",\"2023-12-31T00:00:00\"],\"y\":[6.5,6.0,7.5,9.5,9.5,3.5,3.0,4.75,4.25,3.25,4.5,5.75,7.5,4.75,4.25,4.25,1.75,3.0,12.0,13.0],\"yaxis\":\"y2\",\"type\":\"scatter\"},{\"line\":{\"color\":\"firebrick\",\"width\":3},\"mode\":\"lines+markers\",\"name\":\"Inflación Total\",\"x\":[\"2004-12-31T00:00:00\",\"2005-12-31T00:00:00\",\"2006-12-31T00:00:00\",\"2007-12-31T00:00:00\",\"2008-12-31T00:00:00\",\"2009-12-31T00:00:00\",\"2010-12-31T00:00:00\",\"2011-12-31T00:00:00\",\"2012-12-31T00:00:00\",\"2013-12-31T00:00:00\",\"2014-12-31T00:00:00\",\"2015-12-31T00:00:00\",\"2016-12-31T00:00:00\",\"2017-12-31T00:00:00\",\"2018-12-31T00:00:00\",\"2019-12-31T00:00:00\",\"2020-12-31T00:00:00\",\"2021-12-31T00:00:00\",\"2022-12-31T00:00:00\",\"2023-12-31T00:00:00\"],\"y\":[5.5,4.85,4.48,5.69,7.67,2.0,3.17,3.73,2.44,1.94,3.66,6.77,5.75,4.09,3.18,3.8,1.61,5.62,13.12,9.28],\"yaxis\":\"y2\",\"type\":\"scatter\"},{\"line\":{\"color\":\"orange\",\"width\":3},\"mode\":\"lines+markers\",\"name\":\"Inflación sin Alimentos\",\"x\":[\"2004-12-31T00:00:00\",\"2005-12-31T00:00:00\",\"2006-12-31T00:00:00\",\"2007-12-31T00:00:00\",\"2008-12-31T00:00:00\",\"2009-12-31T00:00:00\",\"2010-12-31T00:00:00\",\"2011-12-31T00:00:00\",\"2012-12-31T00:00:00\",\"2013-12-31T00:00:00\",\"2014-12-31T00:00:00\",\"2015-12-31T00:00:00\",\"2016-12-31T00:00:00\",\"2017-12-31T00:00:00\",\"2018-12-31T00:00:00\",\"2019-12-31T00:00:00\",\"2020-12-31T00:00:00\",\"2021-12-31T00:00:00\",\"2022-12-31T00:00:00\",\"2023-12-31T00:00:00\"],\"y\":[4.6,3.71,3.75,4.2,4.38,3.06,2.06,2.7,2.77,2.73,2.82,5.5,5.48,4.67,2.57,3.1,1.11,2.49,9.51,8.42],\"yaxis\":\"y2\",\"type\":\"scatter\"},{\"line\":{\"color\":\"purple\",\"width\":3},\"mode\":\"lines+markers\",\"name\":\"Salario Mínimo\",\"x\":[\"2004-12-31T00:00:00\",\"2005-12-31T00:00:00\",\"2006-12-31T00:00:00\",\"2007-12-31T00:00:00\",\"2008-12-31T00:00:00\",\"2009-12-31T00:00:00\",\"2010-12-31T00:00:00\",\"2011-12-31T00:00:00\",\"2012-12-31T00:00:00\",\"2013-12-31T00:00:00\",\"2014-12-31T00:00:00\",\"2015-12-31T00:00:00\",\"2016-12-31T00:00:00\",\"2017-12-31T00:00:00\",\"2018-12-31T00:00:00\",\"2019-12-31T00:00:00\",\"2020-12-31T00:00:00\",\"2021-12-31T00:00:00\",\"2022-12-31T00:00:00\",\"2023-12-31T00:00:00\"],\"y\":[7.8,6.6,6.9,6.3,6.4,7.7,3.6,4.0,5.8,4.0,4.5,4.6,7.0,7.0,5.9,6.0,6.0,3.5,10.1,16.0],\"yaxis\":\"y2\",\"type\":\"scatter\"}],                        {\"hovermode\":\"x unified\",\"legend\":{\"bgcolor\":\"rgba(255,255,255,0.8)\",\"bordercolor\":\"black\",\"borderwidth\":1,\"title\":{\"text\":\"Indicadores\"}},\"plot_bgcolor\":\"whitesmoke\",\"template\":{\"data\":{\"barpolar\":[{\"marker\":{\"line\":{\"color\":\"#E5ECF6\",\"width\":0.5},\"pattern\":{\"fillmode\":\"overlay\",\"size\":10,\"solidity\":0.2}},\"type\":\"barpolar\"}],\"bar\":[{\"error_x\":{\"color\":\"#2a3f5f\"},\"error_y\":{\"color\":\"#2a3f5f\"},\"marker\":{\"line\":{\"color\":\"#E5ECF6\",\"width\":0.5},\"pattern\":{\"fillmode\":\"overlay\",\"size\":10,\"solidity\":0.2}},\"type\":\"bar\"}],\"carpet\":[{\"aaxis\":{\"endlinecolor\":\"#2a3f5f\",\"gridcolor\":\"white\",\"linecolor\":\"white\",\"minorgridcolor\":\"white\",\"startlinecolor\":\"#2a3f5f\"},\"baxis\":{\"endlinecolor\":\"#2a3f5f\",\"gridcolor\":\"white\",\"linecolor\":\"white\",\"minorgridcolor\":\"white\",\"startlinecolor\":\"#2a3f5f\"},\"type\":\"carpet\"}],\"choropleth\":[{\"colorbar\":{\"outlinewidth\":0,\"ticks\":\"\"},\"type\":\"choropleth\"}],\"contourcarpet\":[{\"colorbar\":{\"outlinewidth\":0,\"ticks\":\"\"},\"type\":\"contourcarpet\"}],\"contour\":[{\"colorbar\":{\"outlinewidth\":0,\"ticks\":\"\"},\"colorscale\":[[0.0,\"#0d0887\"],[0.1111111111111111,\"#46039f\"],[0.2222222222222222,\"#7201a8\"],[0.3333333333333333,\"#9c179e\"],[0.4444444444444444,\"#bd3786\"],[0.5555555555555556,\"#d8576b\"],[0.6666666666666666,\"#ed7953\"],[0.7777777777777778,\"#fb9f3a\"],[0.8888888888888888,\"#fdca26\"],[1.0,\"#f0f921\"]],\"type\":\"contour\"}],\"heatmapgl\":[{\"colorbar\":{\"outlinewidth\":0,\"ticks\":\"\"},\"colorscale\":[[0.0,\"#0d0887\"],[0.1111111111111111,\"#46039f\"],[0.2222222222222222,\"#7201a8\"],[0.3333333333333333,\"#9c179e\"],[0.4444444444444444,\"#bd3786\"],[0.5555555555555556,\"#d8576b\"],[0.6666666666666666,\"#ed7953\"],[0.7777777777777778,\"#fb9f3a\"],[0.8888888888888888,\"#fdca26\"],[1.0,\"#f0f921\"]],\"type\":\"heatmapgl\"}],\"heatmap\":[{\"colorbar\":{\"outlinewidth\":0,\"ticks\":\"\"},\"colorscale\":[[0.0,\"#0d0887\"],[0.1111111111111111,\"#46039f\"],[0.2222222222222222,\"#7201a8\"],[0.3333333333333333,\"#9c179e\"],[0.4444444444444444,\"#bd3786\"],[0.5555555555555556,\"#d8576b\"],[0.6666666666666666,\"#ed7953\"],[0.7777777777777778,\"#fb9f3a\"],[0.8888888888888888,\"#fdca26\"],[1.0,\"#f0f921\"]],\"type\":\"heatmap\"}],\"histogram2dcontour\":[{\"colorbar\":{\"outlinewidth\":0,\"ticks\":\"\"},\"colorscale\":[[0.0,\"#0d0887\"],[0.1111111111111111,\"#46039f\"],[0.2222222222222222,\"#7201a8\"],[0.3333333333333333,\"#9c179e\"],[0.4444444444444444,\"#bd3786\"],[0.5555555555555556,\"#d8576b\"],[0.6666666666666666,\"#ed7953\"],[0.7777777777777778,\"#fb9f3a\"],[0.8888888888888888,\"#fdca26\"],[1.0,\"#f0f921\"]],\"type\":\"histogram2dcontour\"}],\"histogram2d\":[{\"colorbar\":{\"outlinewidth\":0,\"ticks\":\"\"},\"colorscale\":[[0.0,\"#0d0887\"],[0.1111111111111111,\"#46039f\"],[0.2222222222222222,\"#7201a8\"],[0.3333333333333333,\"#9c179e\"],[0.4444444444444444,\"#bd3786\"],[0.5555555555555556,\"#d8576b\"],[0.6666666666666666,\"#ed7953\"],[0.7777777777777778,\"#fb9f3a\"],[0.8888888888888888,\"#fdca26\"],[1.0,\"#f0f921\"]],\"type\":\"histogram2d\"}],\"histogram\":[{\"marker\":{\"pattern\":{\"fillmode\":\"overlay\",\"size\":10,\"solidity\":0.2}},\"type\":\"histogram\"}],\"mesh3d\":[{\"colorbar\":{\"outlinewidth\":0,\"ticks\":\"\"},\"type\":\"mesh3d\"}],\"parcoords\":[{\"line\":{\"colorbar\":{\"outlinewidth\":0,\"ticks\":\"\"}},\"type\":\"parcoords\"}],\"pie\":[{\"automargin\":true,\"type\":\"pie\"}],\"scatter3d\":[{\"line\":{\"colorbar\":{\"outlinewidth\":0,\"ticks\":\"\"}},\"marker\":{\"colorbar\":{\"outlinewidth\":0,\"ticks\":\"\"}},\"type\":\"scatter3d\"}],\"scattercarpet\":[{\"marker\":{\"colorbar\":{\"outlinewidth\":0,\"ticks\":\"\"}},\"type\":\"scattercarpet\"}],\"scattergeo\":[{\"marker\":{\"colorbar\":{\"outlinewidth\":0,\"ticks\":\"\"}},\"type\":\"scattergeo\"}],\"scattergl\":[{\"marker\":{\"colorbar\":{\"outlinewidth\":0,\"ticks\":\"\"}},\"type\":\"scattergl\"}],\"scattermapbox\":[{\"marker\":{\"colorbar\":{\"outlinewidth\":0,\"ticks\":\"\"}},\"type\":\"scattermapbox\"}],\"scatterpolargl\":[{\"marker\":{\"colorbar\":{\"outlinewidth\":0,\"ticks\":\"\"}},\"type\":\"scatterpolargl\"}],\"scatterpolar\":[{\"marker\":{\"colorbar\":{\"outlinewidth\":0,\"ticks\":\"\"}},\"type\":\"scatterpolar\"}],\"scatter\":[{\"fillpattern\":{\"fillmode\":\"overlay\",\"size\":10,\"solidity\":0.2},\"type\":\"scatter\"}],\"scatterternary\":[{\"marker\":{\"colorbar\":{\"outlinewidth\":0,\"ticks\":\"\"}},\"type\":\"scatterternary\"}],\"surface\":[{\"colorbar\":{\"outlinewidth\":0,\"ticks\":\"\"},\"colorscale\":[[0.0,\"#0d0887\"],[0.1111111111111111,\"#46039f\"],[0.2222222222222222,\"#7201a8\"],[0.3333333333333333,\"#9c179e\"],[0.4444444444444444,\"#bd3786\"],[0.5555555555555556,\"#d8576b\"],[0.6666666666666666,\"#ed7953\"],[0.7777777777777778,\"#fb9f3a\"],[0.8888888888888888,\"#fdca26\"],[1.0,\"#f0f921\"]],\"type\":\"surface\"}],\"table\":[{\"cells\":{\"fill\":{\"color\":\"#EBF0F8\"},\"line\":{\"color\":\"white\"}},\"header\":{\"fill\":{\"color\":\"#C8D4E3\"},\"line\":{\"color\":\"white\"}},\"type\":\"table\"}]},\"layout\":{\"annotationdefaults\":{\"arrowcolor\":\"#2a3f5f\",\"arrowhead\":0,\"arrowwidth\":1},\"autotypenumbers\":\"strict\",\"coloraxis\":{\"colorbar\":{\"outlinewidth\":0,\"ticks\":\"\"}},\"colorscale\":{\"diverging\":[[0,\"#8e0152\"],[0.1,\"#c51b7d\"],[0.2,\"#de77ae\"],[0.3,\"#f1b6da\"],[0.4,\"#fde0ef\"],[0.5,\"#f7f7f7\"],[0.6,\"#e6f5d0\"],[0.7,\"#b8e186\"],[0.8,\"#7fbc41\"],[0.9,\"#4d9221\"],[1,\"#276419\"]],\"sequential\":[[0.0,\"#0d0887\"],[0.1111111111111111,\"#46039f\"],[0.2222222222222222,\"#7201a8\"],[0.3333333333333333,\"#9c179e\"],[0.4444444444444444,\"#bd3786\"],[0.5555555555555556,\"#d8576b\"],[0.6666666666666666,\"#ed7953\"],[0.7777777777777778,\"#fb9f3a\"],[0.8888888888888888,\"#fdca26\"],[1.0,\"#f0f921\"]],\"sequentialminus\":[[0.0,\"#0d0887\"],[0.1111111111111111,\"#46039f\"],[0.2222222222222222,\"#7201a8\"],[0.3333333333333333,\"#9c179e\"],[0.4444444444444444,\"#bd3786\"],[0.5555555555555556,\"#d8576b\"],[0.6666666666666666,\"#ed7953\"],[0.7777777777777778,\"#fb9f3a\"],[0.8888888888888888,\"#fdca26\"],[1.0,\"#f0f921\"]]},\"colorway\":[\"#636efa\",\"#EF553B\",\"#00cc96\",\"#ab63fa\",\"#FFA15A\",\"#19d3f3\",\"#FF6692\",\"#B6E880\",\"#FF97FF\",\"#FECB52\"],\"font\":{\"color\":\"#2a3f5f\"},\"geo\":{\"bgcolor\":\"white\",\"lakecolor\":\"white\",\"landcolor\":\"#E5ECF6\",\"showlakes\":true,\"showland\":true,\"subunitcolor\":\"white\"},\"hoverlabel\":{\"align\":\"left\"},\"hovermode\":\"closest\",\"mapbox\":{\"style\":\"light\"},\"paper_bgcolor\":\"white\",\"plot_bgcolor\":\"#E5ECF6\",\"polar\":{\"angularaxis\":{\"gridcolor\":\"white\",\"linecolor\":\"white\",\"ticks\":\"\"},\"bgcolor\":\"#E5ECF6\",\"radialaxis\":{\"gridcolor\":\"white\",\"linecolor\":\"white\",\"ticks\":\"\"}},\"scene\":{\"xaxis\":{\"backgroundcolor\":\"#E5ECF6\",\"gridcolor\":\"white\",\"gridwidth\":2,\"linecolor\":\"white\",\"showbackground\":true,\"ticks\":\"\",\"zerolinecolor\":\"white\"},\"yaxis\":{\"backgroundcolor\":\"#E5ECF6\",\"gridcolor\":\"white\",\"gridwidth\":2,\"linecolor\":\"white\",\"showbackground\":true,\"ticks\":\"\",\"zerolinecolor\":\"white\"},\"zaxis\":{\"backgroundcolor\":\"#E5ECF6\",\"gridcolor\":\"white\",\"gridwidth\":2,\"linecolor\":\"white\",\"showbackground\":true,\"ticks\":\"\",\"zerolinecolor\":\"white\"}},\"shapedefaults\":{\"line\":{\"color\":\"#2a3f5f\"}},\"ternary\":{\"aaxis\":{\"gridcolor\":\"white\",\"linecolor\":\"white\",\"ticks\":\"\"},\"baxis\":{\"gridcolor\":\"white\",\"linecolor\":\"white\",\"ticks\":\"\"},\"bgcolor\":\"#E5ECF6\",\"caxis\":{\"gridcolor\":\"white\",\"linecolor\":\"white\",\"ticks\":\"\"}},\"title\":{\"x\":0.05},\"xaxis\":{\"automargin\":true,\"gridcolor\":\"white\",\"linecolor\":\"white\",\"ticks\":\"\",\"title\":{\"standoff\":15},\"zerolinecolor\":\"white\",\"zerolinewidth\":2},\"yaxis\":{\"automargin\":true,\"gridcolor\":\"white\",\"linecolor\":\"white\",\"ticks\":\"\",\"title\":{\"standoff\":15},\"zerolinecolor\":\"white\",\"zerolinewidth\":2}}},\"title\":{\"text\":\"Indicadores económicos de Colombia (2004-2023)\"},\"xaxis\":{\"tickformat\":\"%Y\",\"title\":{\"text\":\"Fecha\"}},\"yaxis\":{\"gridcolor\":\"lightgray\",\"showgrid\":true,\"side\":\"left\",\"title\":{\"text\":\"TRM (Pesos)\"}},\"yaxis2\":{\"overlaying\":\"y\",\"showgrid\":false,\"side\":\"right\",\"title\":{\"text\":\"Porcentajes (%)\"}}},                        {\"responsive\": true}                    ).then(function(){\n",
              "                            \n",
              "var gd = document.getElementById('8f576082-2e22-4f53-8db8-dc0864231b9f');\n",
              "var x = new MutationObserver(function (mutations, observer) {{\n",
              "        var display = window.getComputedStyle(gd).display;\n",
              "        if (!display || display === 'none') {{\n",
              "            console.log([gd, 'removed!']);\n",
              "            Plotly.purge(gd);\n",
              "            observer.disconnect();\n",
              "        }}\n",
              "}});\n",
              "\n",
              "// Listen for the removal of the full notebook cells\n",
              "var notebookContainer = gd.closest('#notebook-container');\n",
              "if (notebookContainer) {{\n",
              "    x.observe(notebookContainer, {childList: true});\n",
              "}}\n",
              "\n",
              "// Listen for the clearing of the current output cell\n",
              "var outputEl = gd.closest('.output');\n",
              "if (outputEl) {{\n",
              "    x.observe(outputEl, {childList: true});\n",
              "}}\n",
              "\n",
              "                        })                };                            </script>        </div>\n",
              "</body>\n",
              "</html>"
            ]
          },
          "metadata": {}
        }
      ]
    },
    {
      "cell_type": "code",
      "source": [],
      "metadata": {
        "id": "ZW0Z_DCk1LQd"
      },
      "execution_count": null,
      "outputs": []
    }
  ]
}